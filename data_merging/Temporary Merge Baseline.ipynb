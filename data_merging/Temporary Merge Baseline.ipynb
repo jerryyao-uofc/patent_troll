{
 "cells": [
  {
   "cell_type": "code",
   "execution_count": 1,
   "id": "b14ee39e",
   "metadata": {},
   "outputs": [
    {
     "name": "stderr",
     "output_type": "stream",
     "text": [
      "/Users/jerry/opt/anaconda3/lib/python3.8/site-packages/fuzzywuzzy/fuzz.py:11: UserWarning: Using slow pure-python SequenceMatcher. Install python-Levenshtein to remove this warning\n",
      "  warnings.warn('Using slow pure-python SequenceMatcher. Install python-Levenshtein to remove this warning')\n"
     ]
    }
   ],
   "source": [
    "import pandas as pd \n",
    "import numpy as np\n",
    "from fuzzywuzzy import fuzz\n",
    "from tqdm import tqdm\n",
    "from fuzzywuzzy import fuzz\n",
    "from fuzzywuzzy import process\n",
    "import re\n",
    "from collections import Counter"
   ]
  },
  {
   "cell_type": "code",
   "execution_count": 2,
   "id": "6f503c71",
   "metadata": {},
   "outputs": [],
   "source": [
    "stanford_cleand = pd.read_csv('drive-download-20220516T014219Z-001/final_reformatted_stanford.csv')\n",
    "patent_data = pd.read_csv('drive-download-20220516T014219Z-001/complete_grouped.csv') \n",
    "public = pd.read_csv('drive-download-20220516T014219Z-001/final_public.csv')"
   ]
  },
  {
   "cell_type": "code",
   "execution_count": 3,
   "id": "5ce8062a",
   "metadata": {},
   "outputs": [],
   "source": [
    "def remove_chars_and_lower(string, chars, words):\n",
    "    '''\n",
    "    Function to remove quotation marks from a string, since there seems to be some issues of excess quotes\n",
    "    placed into the company names\n",
    "    '''\n",
    "    string = ''.join(i for i in string if i not in chars)\n",
    "    \n",
    "    string_words = string.split()\n",
    "    result_words  = [word for word in string_words if word.lower() not in words]\n",
    "    result = ' '.join(result_words)\n",
    "    \n",
    "    return result.lower()\n",
    "\n",
    "drop_chars = ['\"', '.', '%']\n",
    "\n",
    "drop_words = ['.com', 'llc', 'incorporated', 'inc', 'co', 'holdings', 'ho', 'corporation', 'corp', \n",
    "              'company', 'hldg', 'ent', 'ltd', 'association', 'foundation', 'club', 'fund', 'the', 'and', 'of', \n",
    "              'services', 'enterprises']\n",
    "\n",
    "# companylist=['bottomline technologies inc', 'arrow international llc', 'american home products corp',\n",
    "#             'aladdin knowledge systems ltd', \"alan b clement\"]\n",
    "# # for i in companylist:\n",
    "# #     print(re.sub(r\"\\W(inc|llc|corp|ltd|co|ltd)\\b\", \"\", i))\n",
    "# comp_list = pd.DataFrame(companylist, columns = ['test'])   \n",
    "# comp_list.test= comp_list.test.apply(lambda x: re.sub(r\"\\W(inc|llc|corp|ltd|co|ltd|lp)\\b\", \"\", x))"
   ]
  },
  {
   "cell_type": "code",
   "execution_count": 4,
   "id": "2924f684",
   "metadata": {},
   "outputs": [],
   "source": [
    "# trevor cleaning technique\n",
    "public['Company'] = public['Company'].apply(lambda x: x.lower())\n",
    "public['Company'] = public['Company'].apply(lambda x: remove_chars_and_lower(x, drop_chars, drop_words))"
   ]
  },
  {
   "cell_type": "code",
   "execution_count": 5,
   "id": "48675513",
   "metadata": {},
   "outputs": [],
   "source": [
    "# some low key data preprocesing\n",
    "\n",
    "# lowercase patent_data\n",
    "public.Company = public.Company.str.lower()\n",
    "\n",
    "# remove all commas\n",
    "public.Company = public.Company.apply(lambda x : x.replace(',',''))\n",
    "\n",
    "\n",
    "# remove some specifics endings \n",
    "public.Company = public.Company.apply(lambda x: re.sub(r\"\\W(inc|llc|corp|ltd|co|ltd|lp)\\b\", \"\", x))\n",
    "\n",
    "# stripping leading and trailing white spaces; and apply lower case to all names\n",
    "public.Company = public.Company.replace(r\"^ +| +$\", r\"\", regex=True)\n",
    "\n",
    "\n"
   ]
  },
  {
   "cell_type": "code",
   "execution_count": 6,
   "id": "3c3fd8d0",
   "metadata": {},
   "outputs": [],
   "source": [
    "# some low key data preprocesing\n",
    "\n",
    "# lowercase patent_data\n",
    "stanford_cleand.Infringer = stanford_cleand.Infringer.str.lower()\n",
    "patent_data.correspondence_name = patent_data.correspondence_name.str.lower()\n",
    "\n",
    "# remove all commas\n",
    "stanford_cleand.Infringer = stanford_cleand.Infringer.apply(lambda x : x.replace(',',''))\n",
    "patent_data.correspondence_name = patent_data.correspondence_name.apply(lambda x : x.replace(',',''))\n",
    "\n",
    "\n",
    "# remove some specifics endings \n",
    "stanford_cleand.Infringer = stanford_cleand.Infringer.apply(lambda x: re.sub(r\"\\W(inc|llc|corp|ltd|co|ltd|lp)\\b\", \"\", x))\n",
    "patent_data.correspondence_name = patent_data.correspondence_name.apply(lambda x: re.sub(r\"\\W(inc|llc|corp|ltd|co|ltd|lp)\\b\", \"\", x))\n",
    "\n",
    "# stripping leading and trailing white spaces; and apply lower case to all names\n",
    "stanford_cleand.Infringer = stanford_cleand.Infringer.replace(r\"^ +| +$\", r\"\", regex=True)\n",
    "patent_data.correspondence_name = patent_data.correspondence_name.replace(r\"^ +| +$\", r\"\", regex=True)"
   ]
  },
  {
   "cell_type": "code",
   "execution_count": 7,
   "id": "86edfd8b",
   "metadata": {},
   "outputs": [
    {
     "name": "stdout",
     "output_type": "stream",
     "text": [
      "(1605274, 9)\n",
      "(8478668, 5)\n",
      "(611314, 13)\n"
     ]
    }
   ],
   "source": [
    "print(stanford_cleand.shape)\n",
    "print(patent_data.shape)\n",
    "print(public.shape)"
   ]
  },
  {
   "cell_type": "code",
   "execution_count": 8,
   "id": "30fa067f",
   "metadata": {
    "scrolled": true
   },
   "outputs": [
    {
     "name": "stdout",
     "output_type": "stream",
     "text": [
      "364318\n"
     ]
    }
   ],
   "source": [
    "lit_df = patent_data.merge(stanford_cleand, how='left', left_on=['correspondence_name', 'Year'], \n",
    "                                right_on=['Infringer', 'Year'])\n",
    "\n",
    "lit_df.dropna(subset=['correspondence_name'], inplace=True)\n",
    "print(len(lit_df['correspondence_name'].unique()))"
   ]
  },
  {
   "cell_type": "code",
   "execution_count": 9,
   "id": "50f4549e",
   "metadata": {},
   "outputs": [
    {
     "data": {
      "text/plain": [
       "array([nan, '10x genomics', '12 sigma technologies', ..., 'zte (usa)',\n",
       "       'zymogenetics', 'zyvex'], dtype=object)"
      ]
     },
     "execution_count": 9,
     "metadata": {},
     "output_type": "execute_result"
    }
   ],
   "source": [
    "lit_df.Infringer.unique()"
   ]
  },
  {
   "cell_type": "code",
   "execution_count": 10,
   "id": "e972cf67",
   "metadata": {},
   "outputs": [
    {
     "name": "stdout",
     "output_type": "stream",
     "text": [
      "3280\n"
     ]
    }
   ],
   "source": [
    "print(len(lit_df.dropna(subset=['Infringer'])['correspondence_name'].unique()))"
   ]
  },
  {
   "cell_type": "code",
   "execution_count": 11,
   "id": "0f4d117f",
   "metadata": {},
   "outputs": [
    {
     "data": {
      "text/plain": [
       "array(['10x genomics', '12 sigma technologies', '2go products', ...,\n",
       "       'zte (usa)', 'zymogenetics', 'zyvex'], dtype=object)"
      ]
     },
     "execution_count": 11,
     "metadata": {},
     "output_type": "execute_result"
    }
   ],
   "source": [
    "lit_df.dropna(subset=['Infringer'])['correspondence_name'].unique()"
   ]
  },
  {
   "cell_type": "markdown",
   "id": "ec98742f",
   "metadata": {},
   "source": [
    "# Merged the seoncd "
   ]
  },
  {
   "cell_type": "code",
   "execution_count": 12,
   "id": "fba5420c",
   "metadata": {},
   "outputs": [
    {
     "name": "stdout",
     "output_type": "stream",
     "text": [
      "364318\n"
     ]
    }
   ],
   "source": [
    "full_lit_df = lit_df.merge(public, how='left', left_on=['correspondence_name', 'Year'], \n",
    "                                right_on=['Company', 'Year'])\n",
    "print(len(full_lit_df['correspondence_name'].unique()))"
   ]
  },
  {
   "cell_type": "code",
   "execution_count": 13,
   "id": "90e0f815",
   "metadata": {},
   "outputs": [
    {
     "name": "stdout",
     "output_type": "stream",
     "text": [
      "1059\n"
     ]
    }
   ],
   "source": [
    "print(len(full_lit_df['Company'].unique()))"
   ]
  },
  {
   "cell_type": "code",
   "execution_count": null,
   "id": "a822e92c",
   "metadata": {},
   "outputs": [],
   "source": []
  }
 ],
 "metadata": {
  "kernelspec": {
   "display_name": "Python 3",
   "language": "python",
   "name": "python3"
  },
  "language_info": {
   "codemirror_mode": {
    "name": "ipython",
    "version": 3
   },
   "file_extension": ".py",
   "mimetype": "text/x-python",
   "name": "python",
   "nbconvert_exporter": "python",
   "pygments_lexer": "ipython3",
   "version": "3.8.8"
  },
  "toc": {
   "base_numbering": 1,
   "nav_menu": {},
   "number_sections": true,
   "sideBar": true,
   "skip_h1_title": false,
   "title_cell": "Table of Contents",
   "title_sidebar": "Contents",
   "toc_cell": false,
   "toc_position": {},
   "toc_section_display": true,
   "toc_window_display": false
  },
  "varInspector": {
   "cols": {
    "lenName": 16,
    "lenType": 16,
    "lenVar": 40
   },
   "kernels_config": {
    "python": {
     "delete_cmd_postfix": "",
     "delete_cmd_prefix": "del ",
     "library": "var_list.py",
     "varRefreshCmd": "print(var_dic_list())"
    },
    "r": {
     "delete_cmd_postfix": ") ",
     "delete_cmd_prefix": "rm(",
     "library": "var_list.r",
     "varRefreshCmd": "cat(var_dic_list()) "
    }
   },
   "types_to_exclude": [
    "module",
    "function",
    "builtin_function_or_method",
    "instance",
    "_Feature"
   ],
   "window_display": false
  }
 },
 "nbformat": 4,
 "nbformat_minor": 5
}
